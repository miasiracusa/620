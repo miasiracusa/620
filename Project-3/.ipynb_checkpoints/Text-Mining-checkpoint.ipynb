{
 "cells": [
  {
   "cell_type": "markdown",
   "metadata": {},
   "source": [
    "#### Data 620 - Project 3 <br>July 10, 2019<br>Team 2: <ul><li>Anthony Munoz</li> <li>Katie Evers</li> <li>Juliann McEachern</li> <li>Mia Siracusa</li></ul>\n",
    "\n",
    "<h1 align=\"center\">Network Analysis: Text Mining </h1>\n",
    "\n",
    "## Getting Started\n",
    "\n",
    "Prompt: Using any of the three classifiers described in chapter 6 of Natural Language Processing with Python, and any features you can think of, build the best name gender classifier you can. \n",
    "\n",
    "#### Python Dependencies"
   ]
  },
  {
   "cell_type": "code",
   "execution_count": 1,
   "metadata": {},
   "outputs": [],
   "source": [
    "# basic requirements \n",
    "import pandas as pd, numpy as np, random, nltk\n",
    "from nltk.corpus import names # data source \n",
    "\n",
    "# sklearn packages\n",
    "from sklearn.naive_bayes import MultinomialNB\n",
    "from sklearn.model_selection import train_test_split\n",
    "from sklearn.feature_extraction import DictVectorizer\n",
    "from sklearn.linear_model import SGDClassifier\n",
    "from sklearn.ensemble import RandomForestClassifier"
   ]
  },
  {
   "cell_type": "markdown",
   "metadata": {},
   "source": [
    "#### Upload and Label Data"
   ]
  },
  {
   "cell_type": "code",
   "execution_count": 2,
   "metadata": {},
   "outputs": [],
   "source": [
    "# retrive names from the nltk corpus\n",
    "labeled_names = ([(name, 'male') for name in names.words('male.txt')] +\n",
    "[(name, 'female') for name in names.words('female.txt')])\n",
    "\n",
    "# randomly shuffle the names\n",
    "np.random.seed(1)\n",
    "random.shuffle(labeled_names)"
   ]
  },
  {
   "cell_type": "code",
   "execution_count": 3,
   "metadata": {},
   "outputs": [
    {
     "data": {
      "text/plain": [
       "[('Gustav', 'male'),\n",
       " ('Quent', 'male'),\n",
       " ('Lou', 'female'),\n",
       " ('Klaus', 'male'),\n",
       " ('Gardener', 'male'),\n",
       " ('Chloette', 'female'),\n",
       " ('Jade', 'female'),\n",
       " ('Miran', 'female'),\n",
       " ('Trace', 'female'),\n",
       " ('Kenyon', 'male')]"
      ]
     },
     "execution_count": 3,
     "metadata": {},
     "output_type": "execute_result"
    }
   ],
   "source": [
    "labeled_names[:10]"
   ]
  },
  {
   "cell_type": "markdown",
   "metadata": {},
   "source": [
    "#### Subset Corpus\n",
    "\n",
    "We split the names corpus into three subsets:\n",
    "1.  Test Set (500 words)\n",
    "2.  Dev-test (500 words)\n",
    "3.  Training Set (Remaining words)"
   ]
  },
  {
   "cell_type": "code",
   "execution_count": 4,
   "metadata": {},
   "outputs": [
    {
     "name": "stdout",
     "output_type": "stream",
     "text": [
      "Testing names count: 500 \n",
      "Development names count: 500 \n",
      "Training names count: 6944\n"
     ]
    }
   ],
   "source": [
    "train_names = labeled_names[1000:]\n",
    "devtest_names = labeled_names[500:1000]\n",
    "test_names = labeled_names[:500]\n",
    "\n",
    "print('Testing names count:',len(test_names),'\\nDevelopment names count:',len(devtest_names),'\\nTraining names count:', len(train_names))"
   ]
  },
  {
   "cell_type": "markdown",
   "metadata": {},
   "source": [
    "## Name-Gender Classifier\n",
    "\n",
    "Task: Start with the example name gender classifier & make incremental improvements. Use the dev-test set to check your progress. Once you are satisfied with your classifier, check its final performance on the test set. \n",
    "\n",
    "#### Example Name-Gender Classifier\n",
    "\n",
    "We used the book example for our first attempt. The function shows us how to create basic features to classify our train and test sets."
   ]
  },
  {
   "cell_type": "code",
   "execution_count": 5,
   "metadata": {},
   "outputs": [
    {
     "name": "stdout",
     "output_type": "stream",
     "text": [
      "Train Accuracy 0.764\n",
      "Example DevTest Accuracy: 0.752\n",
      "Example Test Set Accuracy: 0.752\n"
     ]
    }
   ],
   "source": [
    "# Create function\n",
    "def gender_features(word):\n",
    "    return {'last_letter': word[-1]}\n",
    "\n",
    "# Apply function to train and test data\n",
    "feature_test = [(gender_features(n), gender) for (n, gender) in test_names]\n",
    "feature_devtest = [(gender_features(n), gender) for (n, gender) in devtest_names]\n",
    "feature_train = [(gender_features(n), gender) for (n, gender) in train_names]\n",
    "\n",
    "# Apply naive Bayes algorithm classifier\n",
    "classifier = nltk.NaiveBayesClassifier.train(feature_train)\n",
    "print('Train Accuracy', round(nltk.classify.accuracy(classifier, feature_train),3)) \n",
    "print('Example DevTest Accuracy:', round(nltk.classify.accuracy(classifier, feature_devtest),3)) \n",
    "print('Example Test Set Accuracy:', round(nltk.classify.accuracy(classifier, feature_test),3)) "
   ]
  },
  {
   "cell_type": "markdown",
   "metadata": {},
   "source": [
    "#### Incremental Improvements\n",
    "\n",
    "We found our most informative features, shown below, to create an informative analysis of observed patterns."
   ]
  },
  {
   "cell_type": "code",
   "execution_count": 6,
   "metadata": {
    "scrolled": true
   },
   "outputs": [
    {
     "name": "stdout",
     "output_type": "stream",
     "text": [
      "Most Informative Features\n",
      "             last_letter = 'a'            female : male   =     38.7 : 1.0\n",
      "             last_letter = 'k'              male : female =     30.7 : 1.0\n",
      "             last_letter = 'f'              male : female =     14.5 : 1.0\n",
      "             last_letter = 'm'              male : female =     11.7 : 1.0\n",
      "             last_letter = 'd'              male : female =     10.5 : 1.0\n",
      "             last_letter = 'p'              male : female =     10.5 : 1.0\n",
      "             last_letter = 'v'              male : female =      9.1 : 1.0\n",
      "             last_letter = 'o'              male : female =      8.5 : 1.0\n",
      "             last_letter = 'z'              male : female =      7.1 : 1.0\n",
      "             last_letter = 'r'              male : female =      6.4 : 1.0\n",
      "None\n"
     ]
    }
   ],
   "source": [
    "print(classifier.show_most_informative_features())"
   ]
  },
  {
   "cell_type": "markdown",
   "metadata": {},
   "source": [
    "We took these informative features to improve our second gender functions in an attempt to improve the preditor accurracy of our model.\n",
    "\n",
    "We used the following pattern combinations in order to improve the gender classification:\n",
    "\n",
    "1. Second letter in the name.\n",
    "2. First 3 letters in the name.\n",
    "3. Middle letter of the name.\n",
    "4. Last letter of the name.\n",
    "5. Last 2 letters of the name.\n",
    "6. First 2 letters with the last letter of the name."
   ]
  },
  {
   "cell_type": "code",
   "execution_count": 7,
   "metadata": {},
   "outputs": [],
   "source": [
    "# Improvements function\n",
    "\n",
    "def gender_features_new(word):\n",
    "    word = word.lower()\n",
    "    mid = int(len(word)/2)\n",
    "    return {'comb1': word[1],\n",
    "            'comb2': word[:3],\n",
    "            'comb3': word[mid:mid+5],\n",
    "            'comb4': word[-1],\n",
    "            'comb5': word[-2],\n",
    "            'comb6': word[:2]+word[-1]}"
   ]
  },
  {
   "cell_type": "markdown",
   "metadata": {},
   "source": [
    "We first worked with the training and the development datasets until we felt confident with our model. Then, we applied function on the test dataset."
   ]
  },
  {
   "cell_type": "code",
   "execution_count": 8,
   "metadata": {},
   "outputs": [],
   "source": [
    "# Apply function to train, devtest, and test datasets\n",
    "train_set = [(gender_features_new(n), gender) for (n, gender) in train_names]\n",
    "devtest_set = [(gender_features_new(n), gender) for (n, gender) in devtest_names]\n",
    "test_set = [(gender_features_new(n), gender) for (n, gender) in test_names]"
   ]
  },
  {
   "cell_type": "markdown",
   "metadata": {},
   "source": [
    "To improve our model, we used the following loop to iterate through the devtest names and call the gender functions to identify which of our gender prediction were off."
   ]
  },
  {
   "cell_type": "code",
   "execution_count": 9,
   "metadata": {},
   "outputs": [],
   "source": [
    "errors = []\n",
    "for (name, tag) in devtest_names:\n",
    "    guess = classifier.classify(gender_features_new(name))\n",
    "    if guess != tag:\n",
    "        errors.append( (tag, guess, name) )"
   ]
  },
  {
   "cell_type": "markdown",
   "metadata": {},
   "source": [
    "Here, we observe if they are some pattern on the names and that why we start creating combination of letters and selecting those that improve our prediction algorithm."
   ]
  },
  {
   "cell_type": "code",
   "execution_count": 10,
   "metadata": {},
   "outputs": [
    {
     "name": "stdout",
     "output_type": "stream",
     "text": [
      "{'correct': 'male', 'guessing': 'female', 'name': 'Aamir'}\n",
      "{'correct': 'male', 'guessing': 'female', 'name': 'Abbie'}\n",
      "{'correct': 'male', 'guessing': 'female', 'name': 'Abby'}\n",
      "{'correct': 'male', 'guessing': 'female', 'name': 'Aditya'}\n",
      "{'correct': 'male', 'guessing': 'female', 'name': 'Ahmet'}\n",
      "{'correct': 'male', 'guessing': 'female', 'name': 'Alfie'}\n",
      "{'correct': 'male', 'guessing': 'female', 'name': 'Alfred'}\n",
      "{'correct': 'male', 'guessing': 'female', 'name': 'Ambrosi'}\n",
      "{'correct': 'male', 'guessing': 'female', 'name': 'Andy'}\n",
      "{'correct': 'male', 'guessing': 'female', 'name': 'Aristotle'}\n",
      "{'correct': 'male', 'guessing': 'female', 'name': 'Armando'}\n",
      "{'correct': 'male', 'guessing': 'female', 'name': 'Armond'}\n",
      "{'correct': 'male', 'guessing': 'female', 'name': 'Artur'}\n",
      "{'correct': 'male', 'guessing': 'female', 'name': 'Aubrey'}\n",
      "{'correct': 'male', 'guessing': 'female', 'name': 'Austen'}\n",
      "{'correct': 'male', 'guessing': 'female', 'name': 'Baron'}\n",
      "{'correct': 'male', 'guessing': 'female', 'name': 'Barron'}\n",
      "{'correct': 'male', 'guessing': 'female', 'name': 'Barton'}\n",
      "{'correct': 'male', 'guessing': 'female', 'name': 'Bay'}\n",
      "{'correct': 'male', 'guessing': 'female', 'name': 'Berke'}\n",
      "{'correct': 'male', 'guessing': 'female', 'name': 'Brewer'}\n",
      "{'correct': 'male', 'guessing': 'female', 'name': 'Bryant'}\n",
      "{'correct': 'male', 'guessing': 'female', 'name': 'Butch'}\n",
      "{'correct': 'male', 'guessing': 'female', 'name': 'Caldwell'}\n",
      "{'correct': 'male', 'guessing': 'female', 'name': 'Chane'}\n",
      "{'correct': 'male', 'guessing': 'female', 'name': 'Chase'}\n",
      "{'correct': 'male', 'guessing': 'female', 'name': 'Christie'}\n",
      "{'correct': 'male', 'guessing': 'female', 'name': 'Christos'}\n",
      "{'correct': 'male', 'guessing': 'female', 'name': 'Clair'}\n",
      "{'correct': 'male', 'guessing': 'female', 'name': 'Clayton'}\n",
      "{'correct': 'male', 'guessing': 'female', 'name': 'Cleveland'}\n",
      "{'correct': 'male', 'guessing': 'female', 'name': 'Clinten'}\n",
      "{'correct': 'male', 'guessing': 'female', 'name': 'Clive'}\n",
      "{'correct': 'male', 'guessing': 'female', 'name': 'Connie'}\n",
      "{'correct': 'male', 'guessing': 'female', 'name': 'Connolly'}\n",
      "{'correct': 'male', 'guessing': 'female', 'name': 'Creighton'}\n",
      "{'correct': 'male', 'guessing': 'female', 'name': 'Dalton'}\n",
      "{'correct': 'male', 'guessing': 'female', 'name': 'Dannie'}\n",
      "{'correct': 'male', 'guessing': 'female', 'name': 'Dennie'}\n",
      "{'correct': 'male', 'guessing': 'female', 'name': 'Dmitri'}\n",
      "{'correct': 'male', 'guessing': 'female', 'name': 'Drew'}\n",
      "{'correct': 'male', 'guessing': 'female', 'name': 'Dru'}\n",
      "{'correct': 'male', 'guessing': 'female', 'name': 'Dustin'}\n",
      "{'correct': 'male', 'guessing': 'female', 'name': 'Dylan'}\n",
      "{'correct': 'male', 'guessing': 'female', 'name': 'Edmund'}\n",
      "{'correct': 'male', 'guessing': 'female', 'name': 'Ellsworth'}\n",
      "{'correct': 'male', 'guessing': 'female', 'name': 'Ellwood'}\n",
      "{'correct': 'male', 'guessing': 'female', 'name': 'Emmett'}\n",
      "{'correct': 'male', 'guessing': 'female', 'name': 'Er'}\n",
      "{'correct': 'male', 'guessing': 'female', 'name': 'Ferdy'}\n",
      "{'correct': 'male', 'guessing': 'female', 'name': 'Ferguson'}\n",
      "{'correct': 'male', 'guessing': 'female', 'name': 'Fleming'}\n",
      "{'correct': 'male', 'guessing': 'female', 'name': 'Ford'}\n",
      "{'correct': 'male', 'guessing': 'female', 'name': 'Fran'}\n",
      "{'correct': 'male', 'guessing': 'female', 'name': 'Francisco'}\n",
      "{'correct': 'male', 'guessing': 'female', 'name': 'Frederic'}\n",
      "{'correct': 'male', 'guessing': 'female', 'name': 'Gabe'}\n",
      "{'correct': 'male', 'guessing': 'female', 'name': 'Garrot'}\n",
      "{'correct': 'male', 'guessing': 'female', 'name': 'Garry'}\n",
      "{'correct': 'male', 'guessing': 'female', 'name': 'Garvey'}\n",
      "{'correct': 'male', 'guessing': 'female', 'name': 'Garvin'}\n",
      "{'correct': 'male', 'guessing': 'female', 'name': 'Geoff'}\n",
      "{'correct': 'male', 'guessing': 'female', 'name': 'Geoffry'}\n",
      "{'correct': 'male', 'guessing': 'female', 'name': 'Gerome'}\n",
      "{'correct': 'male', 'guessing': 'female', 'name': 'Gerrit'}\n",
      "{'correct': 'male', 'guessing': 'female', 'name': 'Goddart'}\n",
      "{'correct': 'male', 'guessing': 'female', 'name': 'Guillaume'}\n",
      "{'correct': 'male', 'guessing': 'female', 'name': 'Gustaf'}\n",
      "{'correct': 'male', 'guessing': 'female', 'name': 'Hartwell'}\n",
      "{'correct': 'male', 'guessing': 'female', 'name': 'Hastings'}\n",
      "{'correct': 'male', 'guessing': 'female', 'name': 'Hebert'}\n",
      "{'correct': 'male', 'guessing': 'female', 'name': 'Herman'}\n",
      "{'correct': 'male', 'guessing': 'female', 'name': 'Hermy'}\n",
      "{'correct': 'male', 'guessing': 'female', 'name': 'Herve'}\n",
      "{'correct': 'male', 'guessing': 'female', 'name': 'Higgins'}\n",
      "{'correct': 'male', 'guessing': 'female', 'name': 'Hollis'}\n",
      "{'correct': 'male', 'guessing': 'female', 'name': 'Huntlee'}\n",
      "{'correct': 'male', 'guessing': 'female', 'name': 'Irvine'}\n",
      "{'correct': 'male', 'guessing': 'female', 'name': 'Istvan'}\n",
      "{'correct': 'male', 'guessing': 'female', 'name': 'Jabez'}\n",
      "{'correct': 'male', 'guessing': 'female', 'name': 'Jarrett'}\n",
      "{'correct': 'male', 'guessing': 'female', 'name': 'Jeff'}\n",
      "{'correct': 'male', 'guessing': 'female', 'name': 'Jennings'}\n",
      "{'correct': 'male', 'guessing': 'female', 'name': 'Jeramie'}\n",
      "{'correct': 'male', 'guessing': 'female', 'name': 'Jerome'}\n",
      "{'correct': 'male', 'guessing': 'female', 'name': 'Jessey'}\n",
      "{'correct': 'male', 'guessing': 'female', 'name': 'Joachim'}\n",
      "{'correct': 'male', 'guessing': 'female', 'name': 'Johnnie'}\n",
      "{'correct': 'male', 'guessing': 'female', 'name': 'Julius'}\n",
      "{'correct': 'male', 'guessing': 'female', 'name': 'Kalle'}\n",
      "{'correct': 'male', 'guessing': 'female', 'name': 'Kimball'}\n",
      "{'correct': 'male', 'guessing': 'female', 'name': 'King'}\n",
      "{'correct': 'male', 'guessing': 'female', 'name': 'Kirk'}\n",
      "{'correct': 'male', 'guessing': 'female', 'name': 'Kris'}\n",
      "{'correct': 'male', 'guessing': 'female', 'name': 'Lazar'}\n",
      "{'correct': 'male', 'guessing': 'female', 'name': 'Lazare'}\n",
      "{'correct': 'male', 'guessing': 'female', 'name': 'Leo'}\n",
      "{'correct': 'male', 'guessing': 'female', 'name': 'Leonard'}\n",
      "{'correct': 'male', 'guessing': 'female', 'name': 'Luke'}\n",
      "{'correct': 'male', 'guessing': 'female', 'name': 'Mackenzie'}\n",
      "{'correct': 'male', 'guessing': 'female', 'name': 'Marmaduke'}\n",
      "{'correct': 'male', 'guessing': 'female', 'name': 'Mathew'}\n",
      "{'correct': 'male', 'guessing': 'female', 'name': 'Matthus'}\n",
      "{'correct': 'male', 'guessing': 'female', 'name': 'Maurits'}\n",
      "{'correct': 'male', 'guessing': 'female', 'name': 'Max'}\n",
      "{'correct': 'male', 'guessing': 'female', 'name': 'Mead'}\n",
      "{'correct': 'male', 'guessing': 'female', 'name': 'Michel'}\n",
      "{'correct': 'male', 'guessing': 'female', 'name': 'Mitchell'}\n",
      "{'correct': 'male', 'guessing': 'female', 'name': 'Morly'}\n",
      "{'correct': 'male', 'guessing': 'female', 'name': 'Mort'}\n",
      "{'correct': 'male', 'guessing': 'female', 'name': 'Mortie'}\n",
      "{'correct': 'male', 'guessing': 'female', 'name': 'Muhammad'}\n",
      "{'correct': 'male', 'guessing': 'female', 'name': 'Munroe'}\n",
      "{'correct': 'male', 'guessing': 'female', 'name': 'Myles'}\n",
      "{'correct': 'male', 'guessing': 'female', 'name': 'Nicolas'}\n",
      "{'correct': 'male', 'guessing': 'female', 'name': 'Niki'}\n",
      "{'correct': 'male', 'guessing': 'female', 'name': 'Nikita'}\n",
      "{'correct': 'male', 'guessing': 'female', 'name': 'Nikos'}\n",
      "{'correct': 'male', 'guessing': 'female', 'name': 'Noach'}\n",
      "{'correct': 'male', 'guessing': 'female', 'name': 'Noam'}\n",
      "{'correct': 'male', 'guessing': 'female', 'name': 'Normand'}\n",
      "{'correct': 'male', 'guessing': 'female', 'name': 'Norton'}\n",
      "{'correct': 'male', 'guessing': 'female', 'name': 'Oleg'}\n",
      "{'correct': 'male', 'guessing': 'female', 'name': 'Orbadiah'}\n",
      "{'correct': 'male', 'guessing': 'female', 'name': 'Patrice'}\n",
      "{'correct': 'male', 'guessing': 'female', 'name': 'Peyton'}\n",
      "{'correct': 'male', 'guessing': 'female', 'name': 'Phineas'}\n",
      "{'correct': 'male', 'guessing': 'female', 'name': 'Plato'}\n",
      "{'correct': 'male', 'guessing': 'female', 'name': 'Quigly'}\n",
      "{'correct': 'male', 'guessing': 'female', 'name': 'Quillan'}\n",
      "{'correct': 'male', 'guessing': 'female', 'name': 'Rafael'}\n",
      "{'correct': 'male', 'guessing': 'female', 'name': 'Ralph'}\n",
      "{'correct': 'male', 'guessing': 'female', 'name': 'Raymund'}\n",
      "{'correct': 'male', 'guessing': 'female', 'name': 'Raymundo'}\n",
      "{'correct': 'male', 'guessing': 'female', 'name': 'Redford'}\n",
      "{'correct': 'male', 'guessing': 'female', 'name': 'Renado'}\n",
      "{'correct': 'male', 'guessing': 'female', 'name': 'Rex'}\n",
      "{'correct': 'male', 'guessing': 'female', 'name': 'Reza'}\n",
      "{'correct': 'male', 'guessing': 'female', 'name': 'Richie'}\n",
      "{'correct': 'male', 'guessing': 'female', 'name': 'Rickey'}\n",
      "{'correct': 'male', 'guessing': 'female', 'name': 'Rob'}\n",
      "{'correct': 'male', 'guessing': 'female', 'name': 'Rolph'}\n",
      "{'correct': 'male', 'guessing': 'female', 'name': 'Rufus'}\n",
      "{'correct': 'male', 'guessing': 'female', 'name': 'Rustin'}\n",
      "{'correct': 'male', 'guessing': 'female', 'name': 'Rutledge'}\n",
      "{'correct': 'male', 'guessing': 'female', 'name': 'Saul'}\n",
      "{'correct': 'male', 'guessing': 'female', 'name': 'Scot'}\n",
      "{'correct': 'male', 'guessing': 'female', 'name': 'Sebastian'}\n",
      "{'correct': 'male', 'guessing': 'female', 'name': 'See'}\n",
      "{'correct': 'male', 'guessing': 'female', 'name': 'Sheldon'}\n",
      "{'correct': 'male', 'guessing': 'female', 'name': 'Shepard'}\n",
      "{'correct': 'male', 'guessing': 'female', 'name': 'Sherman'}\n",
      "{'correct': 'male', 'guessing': 'female', 'name': 'Skip'}\n",
      "{'correct': 'male', 'guessing': 'female', 'name': 'Skippy'}\n",
      "{'correct': 'male', 'guessing': 'female', 'name': 'Sly'}\n",
      "{'correct': 'male', 'guessing': 'female', 'name': 'Tabb'}\n",
      "{'correct': 'male', 'guessing': 'female', 'name': 'Talbert'}\n",
      "{'correct': 'male', 'guessing': 'female', 'name': 'Tann'}\n",
      "{'correct': 'male', 'guessing': 'female', 'name': 'Tedd'}\n",
      "{'correct': 'male', 'guessing': 'female', 'name': 'Temple'}\n",
      "{'correct': 'male', 'guessing': 'female', 'name': 'Thorndike'}\n",
      "{'correct': 'male', 'guessing': 'female', 'name': 'Thornton'}\n",
      "{'correct': 'male', 'guessing': 'female', 'name': 'Timmy'}\n",
      "{'correct': 'male', 'guessing': 'female', 'name': 'Tomkin'}\n",
      "{'correct': 'male', 'guessing': 'female', 'name': 'Tremain'}\n",
      "{'correct': 'male', 'guessing': 'female', 'name': 'Tremayne'}\n",
      "{'correct': 'male', 'guessing': 'female', 'name': 'Trev'}\n",
      "{'correct': 'male', 'guessing': 'female', 'name': 'Trevor'}\n",
      "{'correct': 'male', 'guessing': 'female', 'name': 'Tucky'}\n",
      "{'correct': 'male', 'guessing': 'female', 'name': 'Tudor'}\n",
      "{'correct': 'male', 'guessing': 'female', 'name': 'Tull'}\n",
      "{'correct': 'male', 'guessing': 'female', 'name': 'Tulley'}\n",
      "{'correct': 'male', 'guessing': 'female', 'name': 'Udell'}\n",
      "{'correct': 'male', 'guessing': 'female', 'name': 'Waverley'}\n",
      "{'correct': 'male', 'guessing': 'female', 'name': 'Weslie'}\n",
      "{'correct': 'male', 'guessing': 'female', 'name': 'Westleigh'}\n",
      "{'correct': 'male', 'guessing': 'female', 'name': 'Wilson'}\n",
      "{'correct': 'male', 'guessing': 'female', 'name': 'Winfield'}\n",
      "{'correct': 'male', 'guessing': 'female', 'name': 'Winton'}\n",
      "{'correct': 'male', 'guessing': 'female', 'name': 'Wit'}\n",
      "{'correct': 'male', 'guessing': 'female', 'name': 'Wye'}\n",
      "{'correct': 'male', 'guessing': 'female', 'name': 'Yale'}\n",
      "{'correct': 'male', 'guessing': 'female', 'name': 'Yigal'}\n",
      "{'correct': 'male', 'guessing': 'female', 'name': 'Zachariah'}\n",
      "{'correct': 'male', 'guessing': 'female', 'name': 'Zack'}\n",
      "\n",
      "\n",
      "Total Errors: 185\n"
     ]
    }
   ],
   "source": [
    "for (tag_gender_name, guess_name, name) in sorted(errors):\n",
    "        print({'correct': tag_gender_name,\n",
    "               'guessing':guess_name,\n",
    "               'name':name})\n",
    "        \n",
    "print('\\n\\nTotal Errors:', len(errors))"
   ]
  },
  {
   "cell_type": "markdown",
   "metadata": {},
   "source": [
    "#### Final Performance\n",
    "\n",
    "We used the Naives Bayes classifier on our train dataset and measured the accuracy of the devtest and test datasets again. We were satisfied with our accuracy improvements upon this final attempt.\n",
    "\n",
    "Our new classification patterns helped improve our prediction accuracy. In both cases our results were above 80%."
   ]
  },
  {
   "cell_type": "code",
   "execution_count": 11,
   "metadata": {},
   "outputs": [
    {
     "name": "stdout",
     "output_type": "stream",
     "text": [
      "Train Accuracy 0.899\n",
      "DevTest Accuracy 0.816\n",
      "TestSet Accuracy: 0.79\n"
     ]
    }
   ],
   "source": [
    "classifier = nltk.NaiveBayesClassifier.train(train_set) \n",
    "\n",
    "# Store results for analysis\n",
    "NLTK_score_X = round(nltk.classify.accuracy(classifier, train_set),3)\n",
    "NLTK_score_y_dev = round(nltk.classify.accuracy(classifier, devtest_set),3)\n",
    "NLTK_score_y = round(nltk.classify.accuracy(classifier, test_set),3)\n",
    "\n",
    "NLTK_Results = pd.DataFrame([[NLTK_score_X,NLTK_score_y]]).rename(index={0:'NLTK_NBC'})\n",
    "\n",
    "print('Train Accuracy', NLTK_score_X) \n",
    "print('DevTest Accuracy', NLTK_score_y_dev) \n",
    "print('TestSet Accuracy:', NLTK_score_y) "
   ]
  },
  {
   "cell_type": "markdown",
   "metadata": {},
   "source": [
    "## Sklearn Approach\n",
    "\n",
    "After we tried with `nltk` package, we also tried a few approaches using the `sklearn` package to see how other types of machine learning and modeling could improve our acurracy. \n",
    "\n",
    "#### Prepare Dataset\n",
    "\n",
    "To prepare our model, we created a new gender feature from the previews one that we use for the nltk predictor model and added some new changes to the features. We created a new dataset for easy access to our data and called the features function to obtain organized data within a classified array.\n",
    "\n",
    "We called the function our dataset splits to retrieve the names and gender and set these variables as x and y for training and testing purposes."
   ]
  },
  {
   "cell_type": "code",
   "execution_count": 12,
   "metadata": {},
   "outputs": [],
   "source": [
    "# turn test/train into dataframe to ease accessing\n",
    "test_df = pd.DataFrame(test_names)\n",
    "train_df = pd.DataFrame(train_names)\n",
    "\n",
    "# Define feature function\n",
    "def gender_features_new_2(word):\n",
    "    word = word.lower()\n",
    "    mid = int(len(word)/2)\n",
    "    return {'comb1': word[1],\n",
    "            'comb2': word[:3],\n",
    "            'comb3': word[mid:mid+3],\n",
    "            'comb4': word[-1],\n",
    "            'comb5': word[-2],\n",
    "            'comb6': word[:1]+word[-1]}\n",
    "\n",
    "# Vectorize function \n",
    "func_gender = np.vectorize(gender_features_new_2)\n",
    "\n",
    "# Apply function to dataframes\n",
    "X_train, y_train = func_gender(train_df[0]), train_df[1]\n",
    "X_test, y_test = func_gender(test_df[0]), test_df[1]\n",
    "\n",
    "vectorizer = DictVectorizer()\n",
    "\n",
    "#we fit the train data onto vectorize dictionary \n",
    "vect = vectorizer.fit(X_train)"
   ]
  },
  {
   "cell_type": "markdown",
   "metadata": {},
   "source": [
    "This is how the name are after we call the function and return the vectorized array."
   ]
  },
  {
   "cell_type": "code",
   "execution_count": 13,
   "metadata": {},
   "outputs": [
    {
     "name": "stdout",
     "output_type": "stream",
     "text": [
      "[{'comb1': 'a', 'comb2': 'cat', 'comb3': 'thy', 'comb4': 'y', 'comb5': 'h', 'comb6': 'cy'}\n",
      " {'comb1': 'a', 'comb2': 'mar', 'comb3': 'rk', 'comb4': 'k', 'comb5': 'r', 'comb6': 'mk'}]\n"
     ]
    }
   ],
   "source": [
    "print(func_gender(['Cathy',\"Mark\"]))"
   ]
  },
  {
   "cell_type": "markdown",
   "metadata": {},
   "source": [
    "#### Multinomial Model\n",
    "\n",
    "We first tried a Naive Bayes classifier again, but this time using functions from the sklearn package. Our result were comparable with our final nltk attempt."
   ]
  },
  {
   "cell_type": "code",
   "execution_count": 14,
   "metadata": {},
   "outputs": [
    {
     "name": "stdout",
     "output_type": "stream",
     "text": [
      "Train Accuracy: 0.8659\n",
      "Test Accuracy: 0.8\n"
     ]
    }
   ],
   "source": [
    "# Fit Naive Bayes classifier \n",
    "clf = MultinomialNB()\n",
    "clf.fit(vect.transform(X_train),y_train)\n",
    "\n",
    "# Store results for analysis\n",
    "NBC_test = round(clf.score(vect.transform(X_test), y_test),4)\n",
    "NBC_train = round(clf.score(vect.transform(X_train), y_train),4)\n",
    "\n",
    "NBC_Results = pd.DataFrame([[NBC_test,NBC_train]]).rename(index={0:'SK_NBC'})\n",
    "\n",
    "# View results\n",
    "print(\"Train Accuracy: \" + str(NBC_train))\n",
    "print(\"Test Accuracy: \" + str(NBC_test))"
   ]
  },
  {
   "cell_type": "markdown",
   "metadata": {},
   "source": [
    "#### Linear Model\n",
    "\n",
    "We next fitted our data using a Stochastic Gradient Descent (SGD) approach on a linear model. This improved the accuracy of our training data, but the accuracy of our test sets slightly decreased. "
   ]
  },
  {
   "cell_type": "code",
   "execution_count": 15,
   "metadata": {},
   "outputs": [
    {
     "name": "stdout",
     "output_type": "stream",
     "text": [
      "Train Accuracy: 0.9291\n",
      "Test Accuracy: 0.804\n"
     ]
    }
   ],
   "source": [
    "# Fit SGD classifier \n",
    "SGD = SGDClassifier(max_iter=1000, tol=0.001,random_state=1)\n",
    "SGD.fit(vect.transform(X_train),y_train)\n",
    "\n",
    "# Store results for analysis\n",
    "SGD_test= round(SGD.score(vect.transform(X_test), y_test),4)\n",
    "SGD_train = round(SGD.score(vect.transform(X_train), y_train),4)\n",
    "\n",
    "SGD_Results = pd.DataFrame([[SGD_train,SGD_test]]).rename(index={0:'SGD'})\n",
    "\n",
    "# View results\n",
    "print(\"Train Accuracy: \" + str(SGD_train))\n",
    "print(\"Test Accuracy: \" + str(SGD_test))"
   ]
  },
  {
   "cell_type": "markdown",
   "metadata": {},
   "source": [
    "#### Decision Tree Model\n",
    "\n",
    "In our final attempt, we used the `RandomForestClassifier` to improve our accuracy and avoid the overfitting we observed with the linear approach. However, we found that our train accuracy increased again while our testing accuracies decreased. "
   ]
  },
  {
   "cell_type": "code",
   "execution_count": 16,
   "metadata": {},
   "outputs": [
    {
     "name": "stdout",
     "output_type": "stream",
     "text": [
      "Train Accuracy: 0.9512\n",
      "Test Accuracy: 0.782\n"
     ]
    }
   ],
   "source": [
    "# Fit RFC classifier \n",
    "RFC = RandomForestClassifier(n_estimators=10,random_state=1)\n",
    "RFC.fit(vect.transform(X_train),y_train)\n",
    "\n",
    "# Store results for analysis\n",
    "RFC_test = round(RFC.score(vect.transform(X_test), y_test),4)\n",
    "RFC_train = round(RFC.score(vect.transform(X_train), y_train),4)\n",
    "\n",
    "RFC_Results = pd.DataFrame([[RFC_train,RFC_test]]).rename(index={0:'RFC'})\n",
    "\n",
    "# View results\n",
    "print(\"Train Accuracy: \" + str(RFC_train))\n",
    "print(\"Test Accuracy: \" + str(RFC_test))"
   ]
  },
  {
   "cell_type": "markdown",
   "metadata": {},
   "source": [
    "## Analysis\n",
    "\n",
    "Text mining can be challenging especially at the beginning of the process because you don't know what you find in the data and how easy or challenging it will be to work with. One of our initial challenges was identifying the right features to build a good model for predicting the gender of our name corpus. While we had a clear objective, finding these features can be nuanced and tricky. Thankfully, the text provided us with a good examples of what features to look for and how we can identify them on our own. In our first model, we used the book steps to measure our progress while attempting to improve our prediction accuracy for our training, development, and testing datasets.\n",
    "\n",
    "Using the NLTk package, we tried many times different features against dev_test to improve our model. We combined these features in the example function and applied it to obtain the best prediction matches based off these features.\n",
    "\n",
    "While we were satisfied with our results, we were interested to see if other machine-learning packages could improve upon our NLTk models. We used the Scikit-learn package in order to implement different algorithms and compared the accuracy results of the training and test data. Our methods included multinomial Naive Bayes, Stochastic Gradient Descent (SGD) and RandomForest classifiers.\n",
    "\n",
    "After concluding with all the different model predictions, we found that one of the issues is that working with incremental improvements is overfitting our model. This became most apparent with our SKlearn approaches as we saw our training accuracies improve while our test accuracies declined. Most of the model predictions were between a range of 0.78 - 0.84. Interestingly, RandomForest decision trees methods should help alieviate overfitting, but we found this method overfitted our data the most. Our Naive Bayes methods provided our most consistant results. The NLTk method performed slightly better on the train data while the sklearn method improved a little more on our test data."
   ]
  },
  {
   "cell_type": "code",
   "execution_count": 17,
   "metadata": {},
   "outputs": [
    {
     "data": {
      "text/html": [
       "<div>\n",
       "<style scoped>\n",
       "    .dataframe tbody tr th:only-of-type {\n",
       "        vertical-align: middle;\n",
       "    }\n",
       "\n",
       "    .dataframe tbody tr th {\n",
       "        vertical-align: top;\n",
       "    }\n",
       "\n",
       "    .dataframe thead th {\n",
       "        text-align: right;\n",
       "    }\n",
       "</style>\n",
       "<table border=\"1\" class=\"dataframe\">\n",
       "  <thead>\n",
       "    <tr style=\"text-align: right;\">\n",
       "      <th></th>\n",
       "      <th>Train</th>\n",
       "      <th>Test</th>\n",
       "    </tr>\n",
       "  </thead>\n",
       "  <tbody>\n",
       "    <tr>\n",
       "      <th>NLTK_NBC</th>\n",
       "      <td>0.8990</td>\n",
       "      <td>0.7900</td>\n",
       "    </tr>\n",
       "    <tr>\n",
       "      <th>SK_NBC</th>\n",
       "      <td>0.8000</td>\n",
       "      <td>0.8659</td>\n",
       "    </tr>\n",
       "    <tr>\n",
       "      <th>SGD</th>\n",
       "      <td>0.9291</td>\n",
       "      <td>0.8040</td>\n",
       "    </tr>\n",
       "    <tr>\n",
       "      <th>RFC</th>\n",
       "      <td>0.9512</td>\n",
       "      <td>0.7820</td>\n",
       "    </tr>\n",
       "  </tbody>\n",
       "</table>\n",
       "</div>"
      ],
      "text/plain": [
       "           Train    Test\n",
       "NLTK_NBC  0.8990  0.7900\n",
       "SK_NBC    0.8000  0.8659\n",
       "SGD       0.9291  0.8040\n",
       "RFC       0.9512  0.7820"
      ]
     },
     "execution_count": 17,
     "metadata": {},
     "output_type": "execute_result"
    }
   ],
   "source": [
    "NLTK_Results.append(NBC_Results).append(SGD_Results).append(RFC_Results).rename(columns={0:\"Train\", 1:\"Test\"})"
   ]
  },
  {
   "cell_type": "code",
   "execution_count": 1,
   "metadata": {},
   "outputs": [
    {
     "data": {
      "text/html": [
       "\n",
       "<div style=\"position: relative; padding-bottom: 56.25%; height: 0;\"><iframe src=\"https://www.loom.com/embed/0ddad4e67dae4dd9b5534d8ed7f77899\" frameborder=\"0\" webkitallowfullscreen mozallowfullscreen allowfullscreen style=\"position: absolute; top: 0; left: 0; width: 100%; height: 100%;\"></iframe></div>\n"
      ],
      "text/plain": [
       "<IPython.core.display.HTML object>"
      ]
     },
     "metadata": {},
     "output_type": "display_data"
    }
   ],
   "source": [
    "%%html\n",
    "\n",
    "<div style=\"position: relative; padding-bottom: 56.25%; height: 0;\"><iframe src=\"https://www.loom.com/embed/0ddad4e67dae4dd9b5534d8ed7f77899\" frameborder=\"0\" webkitallowfullscreen mozallowfullscreen allowfullscreen style=\"position: absolute; top: 0; left: 0; width: 100%; height: 100%;\"></iframe></div>"
   ]
  },
  {
   "cell_type": "markdown",
   "metadata": {},
   "source": [
    "### References "
   ]
  },
  {
   "cell_type": "markdown",
   "metadata": {},
   "source": [
    "1. https://www.nltk.org/book/ch06.html#fig-supervised-classification\n",
    "2. https://scikit-learn.org/stable/modules/generated/sklearn.ensemble.RandomForestClassifier.html\n",
    "3. https://nlpforhackers.io/introduction-machine-learning/"
   ]
  }
 ],
 "metadata": {
  "kernelspec": {
   "display_name": "Python 3",
   "language": "python",
   "name": "python3"
  },
  "language_info": {
   "codemirror_mode": {
    "name": "ipython",
    "version": 3
   },
   "file_extension": ".py",
   "mimetype": "text/x-python",
   "name": "python",
   "nbconvert_exporter": "python",
   "pygments_lexer": "ipython3",
   "version": "3.6.8"
  }
 },
 "nbformat": 4,
 "nbformat_minor": 2
}
